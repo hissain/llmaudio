{
 "cells": [
  {
   "cell_type": "code",
   "execution_count": null,
   "id": "2e48b7e6",
   "metadata": {},
   "outputs": [],
   "source": [
    "#pip install sounddevice scipy openai-whisper"
   ]
  },
  {
   "cell_type": "code",
   "execution_count": null,
   "id": "85280ccd",
   "metadata": {},
   "outputs": [],
   "source": [
    "import sounddevice as sd\n",
    "from scipy.io.wavfile import write\n",
    "import whisper\n",
    "import numpy as np\n",
    "\n",
    "def record_audio(filename=\"output.wav\", duration=10, samplerate=16000):\n",
    "    print(\"Recording...\")\n",
    "    audio_data = sd.rec(int(duration * samplerate), samplerate=samplerate, channels=1, dtype='int16')\n",
    "    sd.wait()  # Wait until recording is finished\n",
    "    print(\"Recording finished.\")\n",
    "    write(filename, samplerate, audio_data)  # Save as WAV file\n",
    "    return filename\n",
    "\n",
    "def transcribe_audio(filename):\n",
    "    model = whisper.load_model(\"small\")  # Load the Whisper model (change to \"small\", \"medium\", or \"large\" if needed)\n",
    "    print(\"Transcribing...\")\n",
    "    result = model.transcribe(filename)\n",
    "    return result[\"text\"]\n",
    "\n",
    "if __name__ == \"__main__\":\n",
    "    audio_file = record_audio(duration=5)  # Record for 5 seconds\n",
    "    transcription = transcribe_audio(audio_file)\n",
    "    print(\"Transcribed Text:\")\n",
    "    print(transcription)"
   ]
  }
 ],
 "metadata": {
  "kernelspec": {
   "display_name": "Python (myenv)",
   "language": "python",
   "name": "myenv"
  },
  "language_info": {
   "codemirror_mode": {
    "name": "ipython",
    "version": 3
   },
   "file_extension": ".py",
   "mimetype": "text/x-python",
   "name": "python",
   "nbconvert_exporter": "python",
   "pygments_lexer": "ipython3",
   "version": "3.11.5"
  }
 },
 "nbformat": 4,
 "nbformat_minor": 5
}
