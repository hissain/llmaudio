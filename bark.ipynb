{
 "cells": [
  {
   "cell_type": "code",
   "execution_count": null,
   "id": "646134aa",
   "metadata": {},
   "outputs": [],
   "source": [
    "#pip install bark"
   ]
  },
  {
   "cell_type": "code",
   "execution_count": null,
   "id": "9ea95abf",
   "metadata": {},
   "outputs": [],
   "source": [
    "from bark import generate_audio, save_audio\n",
    "text_to_speak = \"Hello! This is an example of text-to-speech using the Suno Bark model.\"\n",
    "print(\"Generating audio...\")\n",
    "audio_array = generate_audio(text_to_speak)\n",
    "output_file = \"output_audio.wav\"\n",
    "save_audio(audio_array, output_file)\n",
    "print(f\"Audio generated and saved to {output_file}.\")"
   ]
  }
 ],
 "metadata": {
  "kernelspec": {
   "display_name": "Python (myenv)",
   "language": "python",
   "name": "myenv"
  },
  "language_info": {
   "codemirror_mode": {
    "name": "ipython",
    "version": 3
   },
   "file_extension": ".py",
   "mimetype": "text/x-python",
   "name": "python",
   "nbconvert_exporter": "python",
   "pygments_lexer": "ipython3",
   "version": "3.11.5"
  }
 },
 "nbformat": 4,
 "nbformat_minor": 5
}
