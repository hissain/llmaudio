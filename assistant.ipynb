{
 "cells": [
  {
   "cell_type": "code",
   "execution_count": null,
   "id": "82abb1e6",
   "metadata": {},
   "outputs": [],
   "source": [
    "#pip install sounddevice scipy openai-whisper bark"
   ]
  },
  {
   "cell_type": "code",
   "execution_count": 9,
   "id": "8cef3978",
   "metadata": {},
   "outputs": [
    {
     "name": "stdout",
     "output_type": "stream",
     "text": [
      "Welcome to your fully local conversational assistant!\n",
      "Initializing...\n",
      "Loading models locally...\n",
      "Ready! Press Ctrl+C to exit.\n",
      "Listening... Speak now!\n",
      "Recording finished.\n",
      "Transcribing...\n",
      "Error transcribing audio: [Errno 2] No such file or directory: 'ffmpeg'\n",
      "Listening... Speak now!\n"
     ]
    },
    {
     "name": "stderr",
     "output_type": "stream",
     "text": [
      "/Users/hissain/myenv/lib/python3.11/site-packages/whisper/transcribe.py:126: UserWarning: FP16 is not supported on CPU; using FP32 instead\n",
      "  warnings.warn(\"FP16 is not supported on CPU; using FP32 instead\")\n"
     ]
    },
    {
     "name": "stdout",
     "output_type": "stream",
     "text": [
      "Recording finished.\n",
      "Transcribing...\n",
      "Error transcribing audio: [Errno 2] No such file or directory: 'ffmpeg'\n",
      "Listening... Speak now!\n"
     ]
    },
    {
     "name": "stderr",
     "output_type": "stream",
     "text": [
      "/Users/hissain/myenv/lib/python3.11/site-packages/whisper/transcribe.py:126: UserWarning: FP16 is not supported on CPU; using FP32 instead\n",
      "  warnings.warn(\"FP16 is not supported on CPU; using FP32 instead\")\n"
     ]
    },
    {
     "name": "stdout",
     "output_type": "stream",
     "text": [
      "Recording finished.\n",
      "Transcribing...\n",
      "Error transcribing audio: [Errno 2] No such file or directory: 'ffmpeg'\n",
      "Listening... Speak now!\n"
     ]
    },
    {
     "name": "stderr",
     "output_type": "stream",
     "text": [
      "/Users/hissain/myenv/lib/python3.11/site-packages/whisper/transcribe.py:126: UserWarning: FP16 is not supported on CPU; using FP32 instead\n",
      "  warnings.warn(\"FP16 is not supported on CPU; using FP32 instead\")\n"
     ]
    },
    {
     "name": "stdout",
     "output_type": "stream",
     "text": [
      "\n",
      "Exiting...\n",
      "Thank you for using the local voice assistant!\n"
     ]
    }
   ],
   "source": [
    "import sounddevice as sd\n",
    "from scipy.io.wavfile import write\n",
    "import whisper\n",
    "from bark import SAMPLE_RATE, generate_audio\n",
    "import numpy as np\n",
    "import wave\n",
    "import os\n",
    "from bark.generation import preload_models\n",
    "\n",
    "# Define model directories\n",
    "model_dir_whisper = os.path.expanduser(\"~/ml/models/whisper_models\")\n",
    "model_dir_bark = os.path.expanduser(\"~/ml/models/bark_models\")\n",
    "\n",
    "def load_models():\n",
    "    \"\"\"Load Whisper and Bark models from local directories\"\"\"\n",
    "    print(\"Loading models locally...\")\n",
    "    try:\n",
    "        whisper_model = whisper.load_model(\"small\", download_root=model_dir_whisper)\n",
    "        return whisper_model\n",
    "    except Exception as e:\n",
    "        print(f\"Error loading models: {e}\")\n",
    "        return None\n",
    "\n",
    "def record_audio(filename=\"input_audio.wav\", duration=5, samplerate=16000):\n",
    "    \"\"\"Record audio from microphone\"\"\"\n",
    "    print(\"Listening... Speak now!\")\n",
    "    try:\n",
    "        # Ensure the audio data is float32 for better compatibility\n",
    "        audio_data = sd.rec(int(duration * samplerate), \n",
    "                          samplerate=samplerate, \n",
    "                          channels=1, \n",
    "                          dtype='float32')\n",
    "        sd.wait()\n",
    "        print(\"Recording finished.\")\n",
    "        \n",
    "        # Convert float32 to int16 for WAV file\n",
    "        audio_data_int = (audio_data * 32767).astype(np.int16)\n",
    "        write(filename, samplerate, audio_data_int)\n",
    "        return filename\n",
    "    except Exception as e:\n",
    "        print(f\"Error recording audio: {e}\")\n",
    "        return None\n",
    "\n",
    "def transcribe_audio(filename, whisper_model):\n",
    "    \"\"\"Transcribe audio using Whisper\"\"\"\n",
    "    print(\"Transcribing...\")\n",
    "    try:\n",
    "        result = whisper_model.transcribe(filename)\n",
    "        return result[\"text\"].strip()\n",
    "    except Exception as e:\n",
    "        print(f\"Error transcribing audio: {e}\")\n",
    "        return \"\"\n",
    "\n",
    "def speak_text(text, output_file=\"output_audio.wav\"):\n",
    "    \"\"\"Generate speech using Bark\"\"\"\n",
    "    print(\"Generating response...\")\n",
    "    try:\n",
    "        # Generate audio using Bark\n",
    "        audio_array = generate_audio(text)\n",
    "        \n",
    "        # Save the generated audio\n",
    "        with wave.open(output_file, \"wb\") as wf:\n",
    "            wf.setnchannels(1)  # Mono audio\n",
    "            wf.setsampwidth(2)  # 16-bit audio\n",
    "            wf.setframerate(SAMPLE_RATE)  # Use Bark's sample rate constant\n",
    "            # Convert float32 to int16\n",
    "            audio_int16 = (audio_array * 32767).astype(np.int16)\n",
    "            wf.writeframes(audio_int16.tobytes())\n",
    "        \n",
    "        print(f\"Response saved as {output_file}\")\n",
    "        return output_file\n",
    "    except Exception as e:\n",
    "        print(f\"Error generating speech: {e}\")\n",
    "        return None\n",
    "\n",
    "def play_audio(file_path):\n",
    "    \"\"\"Play audio file\"\"\"\n",
    "    try:\n",
    "        with wave.open(file_path, 'rb') as wf:\n",
    "            rate = wf.getframerate()\n",
    "            data = wf.readframes(wf.getnframes())\n",
    "            audio_data = np.frombuffer(data, dtype=np.int16)\n",
    "            sd.play(audio_data, samplerate=rate, blocking=True)\n",
    "    except Exception as e:\n",
    "        print(f\"Error playing audio: {e}\")\n",
    "\n",
    "def conversational_assistant():\n",
    "    \"\"\"Main conversational loop\"\"\"\n",
    "    print(\"Welcome to your fully local conversational assistant!\")\n",
    "    print(\"Initializing...\")\n",
    "    \n",
    "    # Create model directories if they don't exist\n",
    "    os.makedirs(model_dir_whisper, exist_ok=True)\n",
    "    os.makedirs(model_dir_bark, exist_ok=True)\n",
    "    \n",
    "    # Load models\n",
    "    whisper_model = load_models()\n",
    "    if whisper_model is None:\n",
    "        print(\"Failed to load models. Exiting...\")\n",
    "        return\n",
    "    \n",
    "    print(\"Ready! Press Ctrl+C to exit.\")\n",
    "    try:\n",
    "        while True:\n",
    "            # Record user input\n",
    "            input_audio = record_audio(duration=5)\n",
    "            if input_audio is None:\n",
    "                continue\n",
    "            \n",
    "            # Transcribe audio\n",
    "            user_input = transcribe_audio(input_audio, whisper_model)\n",
    "            if not user_input:\n",
    "                continue\n",
    "            \n",
    "            print(f\"User said: {user_input}\")\n",
    "            \n",
    "            # Check for exit condition\n",
    "            if user_input.lower() in [\"exit\", \"quit\", \"bye\", \"goodbye\"]:\n",
    "                print(\"Goodbye!\")\n",
    "                break\n",
    "            \n",
    "            # Generate and speak response\n",
    "            response_text = f\"You said: {user_input}. How can I assist you further?\"\n",
    "            response_audio = speak_text(response_text)\n",
    "            if response_audio:\n",
    "                play_audio(response_audio)\n",
    "    \n",
    "    except KeyboardInterrupt:\n",
    "        print(\"\\nExiting...\")\n",
    "    except Exception as e:\n",
    "        print(f\"An error occurred: {e}\")\n",
    "    finally:\n",
    "        print(\"Thank you for using the local voice assistant!\")\n",
    "\n",
    "if __name__ == \"__main__\":\n",
    "    conversational_assistant()"
   ]
  }
 ],
 "metadata": {
  "kernelspec": {
   "display_name": "Python (myenv)",
   "language": "python",
   "name": "myenv"
  },
  "language_info": {
   "codemirror_mode": {
    "name": "ipython",
    "version": 3
   },
   "file_extension": ".py",
   "mimetype": "text/x-python",
   "name": "python",
   "nbconvert_exporter": "python",
   "pygments_lexer": "ipython3",
   "version": "3.11.5"
  }
 },
 "nbformat": 4,
 "nbformat_minor": 5
}
