{
 "cells": [
  {
   "cell_type": "code",
   "execution_count": null,
   "id": "9ffc689f",
   "metadata": {},
   "outputs": [],
   "source": [
    "#pip install sounddevice scipy openai-whisper bark"
   ]
  },
  {
   "cell_type": "code",
   "execution_count": null,
   "id": "66b850b7",
   "metadata": {},
   "outputs": [],
   "source": [
    "import sounddevice as sd\n",
    "from scipy.io.wavfile import write\n",
    "import whisper\n",
    "from bark import generate_audio, save_audio\n",
    "import numpy as np\n",
    "import os\n",
    "import wave\n",
    "\n",
    "def record_audio(filename=\"input_audio.wav\", duration=5, samplerate=16000):\n",
    "    print(\"Listening... Speak now!\")\n",
    "    audio_data = sd.rec(int(duration * samplerate), samplerate=samplerate, channels=1, dtype='int16')\n",
    "    sd.wait()  # Wait until recording is finished\n",
    "    print(\"Recording finished.\")\n",
    "    write(filename, samplerate, audio_data)  # Save as WAV file\n",
    "    return filename\n",
    "\n",
    "def transcribe_audio(filename):\n",
    "    model = whisper.load_model(\"small\")  # Change to \"base\", \"small\", \"medium\", or \"large\" if needed\n",
    "    print(\"Transcribing...\")\n",
    "    result = model.transcribe(filename)\n",
    "    return result[\"text\"]\n",
    "\n",
    "def speak_text(text, output_file=\"output_audio.wav\"):\n",
    "    print(\"Generating response...\")\n",
    "    audio_array = generate_audio(text)\n",
    "    save_audio(audio_array, output_file)\n",
    "    print(f\"Response saved as {output_file}.\")\n",
    "    return output_file\n",
    "\n",
    "def play_audio(file_path):\n",
    "    with wave.open(file_path, 'rb') as wf:\n",
    "        rate = wf.getframerate()\n",
    "        data = wf.readframes(wf.getnframes())\n",
    "        audio_data = np.frombuffer(data, dtype=np.int16)\n",
    "        sd.play(audio_data, samplerate=rate)\n",
    "        sd.wait()\n",
    "\n",
    "def conversational_assistant():\n",
    "    print(\"Welcome to your fully local conversational assistant!\")\n",
    "    while True:\n",
    "        # Step 1: Record user input\n",
    "        input_audio = record_audio(duration=5)\n",
    "        user_input = transcribe_audio(input_audio)\n",
    "        print(f\"User said: {user_input}\")\n",
    "        if user_input.lower() in [\"exit\", \"quit\", \"bye\"]:\n",
    "            print(\"Goodbye!\")\n",
    "            break\n",
    "\n",
    "        response_text = f\"You just said: {user_input}. How can I assist you further?\"\n",
    "        response_audio = speak_text(response_text)\n",
    "        play_audio(response_audio)\n",
    "\n",
    "# Run the assistant\n",
    "if __name__ == \"__main__\":\n",
    "    conversational_assistant()\n"
   ]
  }
 ],
 "metadata": {
  "kernelspec": {
   "display_name": "Python (myenv)",
   "language": "python",
   "name": "myenv"
  },
  "language_info": {
   "codemirror_mode": {
    "name": "ipython",
    "version": 3
   },
   "file_extension": ".py",
   "mimetype": "text/x-python",
   "name": "python",
   "nbconvert_exporter": "python",
   "pygments_lexer": "ipython3",
   "version": "3.11.5"
  }
 },
 "nbformat": 4,
 "nbformat_minor": 5
}
